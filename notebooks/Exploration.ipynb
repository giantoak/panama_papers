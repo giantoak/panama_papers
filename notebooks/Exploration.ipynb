{
 "cells": [
  {
   "cell_type": "code",
   "execution_count": null,
   "metadata": {
    "collapsed": true
   },
   "outputs": [],
   "source": [
    "import pandas as pd\n",
    "from igraph import Graph\n",
    "import geopy"
   ]
  },
  {
   "cell_type": "markdown",
   "metadata": {},
   "source": [
    "Load data"
   ]
  },
  {
   "cell_type": "code",
   "execution_count": 1,
   "metadata": {
    "collapsed": false
   },
   "outputs": [],
   "source": [
    "addrs = pd.read_csv('../data/offshore_leaks_csvs/Addresses.csv')\n",
    "all_edges = pd.read_csv('../data/offshore_leaks_csvs/all_edges.csv')\n",
    "entities = pd.read_csv('../data/offshore_leaks_csvs/Entities.csv', low_memory=False)\n",
    "intermeds = pd.read_csv('../data/offshore_leaks_csvs/Intermediaries.csv')\n",
    "officers = pd.read_csv('../data/offshore_leaks_csvs/Officers.csv')"
   ]
  },
  {
   "cell_type": "code",
   "execution_count": 18,
   "metadata": {
    "collapsed": false
   },
   "outputs": [
    {
     "data": {
      "text/html": [
       "<div>\n",
       "<table border=\"1\" class=\"dataframe\">\n",
       "  <thead>\n",
       "    <tr style=\"text-align: right;\">\n",
       "      <th></th>\n",
       "      <th>name</th>\n",
       "      <th>original_name</th>\n",
       "      <th>former_name</th>\n",
       "      <th>jurisdiction</th>\n",
       "      <th>jurisdiction_description</th>\n",
       "      <th>company_type</th>\n",
       "      <th>address</th>\n",
       "      <th>internal_id</th>\n",
       "      <th>incorporation_date</th>\n",
       "      <th>inactivation_date</th>\n",
       "      <th>...</th>\n",
       "      <th>dorm_date</th>\n",
       "      <th>status</th>\n",
       "      <th>service_provider</th>\n",
       "      <th>ibcRUC</th>\n",
       "      <th>country_codes</th>\n",
       "      <th>countries</th>\n",
       "      <th>note</th>\n",
       "      <th>valid_until</th>\n",
       "      <th>node_id</th>\n",
       "      <th>sourceID</th>\n",
       "    </tr>\n",
       "  </thead>\n",
       "  <tbody>\n",
       "    <tr>\n",
       "      <th>0</th>\n",
       "      <td>ZODIAK LTD</td>\n",
       "      <td>NaN</td>\n",
       "      <td>NaN</td>\n",
       "      <td>XXX</td>\n",
       "      <td>Undetermined</td>\n",
       "      <td>Business Company Limited by Shares</td>\n",
       "      <td>Christabel Corporate Services Limited Christab...</td>\n",
       "      <td>NaN</td>\n",
       "      <td>24-AUG-2007</td>\n",
       "      <td>NaN</td>\n",
       "      <td>...</td>\n",
       "      <td>01-MAY-2009</td>\n",
       "      <td>Dead</td>\n",
       "      <td>Commonwealth Trust Limited</td>\n",
       "      <td>1427813</td>\n",
       "      <td>VGB;CYP</td>\n",
       "      <td>Virgin Islands, British;Cyprus</td>\n",
       "      <td>NaN</td>\n",
       "      <td>The Offshore Leaks data is current through 2010</td>\n",
       "      <td>67028</td>\n",
       "      <td>Offshore Leaks</td>\n",
       "    </tr>\n",
       "    <tr>\n",
       "      <th>1</th>\n",
       "      <td>Zven Ltd.</td>\n",
       "      <td>NaN</td>\n",
       "      <td>NaN</td>\n",
       "      <td>XXX</td>\n",
       "      <td>Undetermined</td>\n",
       "      <td>Business Company Limited by Shares</td>\n",
       "      <td>Alesta Consulting, S.A. INVOICE BY EMAIL ONLY</td>\n",
       "      <td>NaN</td>\n",
       "      <td>29-JAN-2007</td>\n",
       "      <td>NaN</td>\n",
       "      <td>...</td>\n",
       "      <td>01-NOV-2008</td>\n",
       "      <td>Dead</td>\n",
       "      <td>Commonwealth Trust Limited</td>\n",
       "      <td>1382756</td>\n",
       "      <td>XXX;VGB</td>\n",
       "      <td>Not identified;Virgin Islands, British</td>\n",
       "      <td>NaN</td>\n",
       "      <td>The Offshore Leaks data is current through 2010</td>\n",
       "      <td>67243</td>\n",
       "      <td>Offshore Leaks</td>\n",
       "    </tr>\n",
       "    <tr>\n",
       "      <th>2</th>\n",
       "      <td>Anson 11A Ltd.</td>\n",
       "      <td>NaN</td>\n",
       "      <td>NaN</td>\n",
       "      <td>XXX</td>\n",
       "      <td>Undetermined</td>\n",
       "      <td>The GRA group of Companies for express Co.</td>\n",
       "      <td>Express Co Registration Pte Ltd 138 Cecil Stre...</td>\n",
       "      <td>NaN</td>\n",
       "      <td>09-MAY-2000</td>\n",
       "      <td>NaN</td>\n",
       "      <td>...</td>\n",
       "      <td>NaN</td>\n",
       "      <td>Liquidated</td>\n",
       "      <td>Commonwealth Trust Limited</td>\n",
       "      <td>386675</td>\n",
       "      <td>SGP;VGB</td>\n",
       "      <td>Singapore;Virgin Islands, British</td>\n",
       "      <td>NaN</td>\n",
       "      <td>The Offshore Leaks data is current through 2010</td>\n",
       "      <td>67258</td>\n",
       "      <td>Offshore Leaks</td>\n",
       "    </tr>\n",
       "    <tr>\n",
       "      <th>3</th>\n",
       "      <td>GIADA LTD</td>\n",
       "      <td>NaN</td>\n",
       "      <td>NaN</td>\n",
       "      <td>XXX</td>\n",
       "      <td>Undetermined</td>\n",
       "      <td>Business Company Limited by Shares</td>\n",
       "      <td>Christabel Corporate Services Limited Christab...</td>\n",
       "      <td>NaN</td>\n",
       "      <td>14-JUN-2007</td>\n",
       "      <td>NaN</td>\n",
       "      <td>...</td>\n",
       "      <td>NaN</td>\n",
       "      <td>Transferred OUT</td>\n",
       "      <td>Commonwealth Trust Limited</td>\n",
       "      <td>1411204</td>\n",
       "      <td>CYP;VGB</td>\n",
       "      <td>Cyprus;Virgin Islands, British</td>\n",
       "      <td>NaN</td>\n",
       "      <td>The Offshore Leaks data is current through 2010</td>\n",
       "      <td>67266</td>\n",
       "      <td>Offshore Leaks</td>\n",
       "    </tr>\n",
       "    <tr>\n",
       "      <th>4</th>\n",
       "      <td>Scott D. Howard</td>\n",
       "      <td>NaN</td>\n",
       "      <td>NaN</td>\n",
       "      <td>XXX</td>\n",
       "      <td>Undetermined</td>\n",
       "      <td>Sundry Account</td>\n",
       "      <td>Scott D. Howard P.O. Box 811 Brunswick ME 0401...</td>\n",
       "      <td>NaN</td>\n",
       "      <td>NaN</td>\n",
       "      <td>NaN</td>\n",
       "      <td>...</td>\n",
       "      <td>NaN</td>\n",
       "      <td>NaN</td>\n",
       "      <td>Commonwealth Trust Limited</td>\n",
       "      <td>NaN</td>\n",
       "      <td>USA;XXX</td>\n",
       "      <td>United States;Not identified</td>\n",
       "      <td>This is not an offshore entity even though it ...</td>\n",
       "      <td>The Offshore Leaks data is current through 2010</td>\n",
       "      <td>108050</td>\n",
       "      <td>Offshore Leaks</td>\n",
       "    </tr>\n",
       "  </tbody>\n",
       "</table>\n",
       "<p>5 rows × 21 columns</p>\n",
       "</div>"
      ],
      "text/plain": [
       "              name original_name former_name jurisdiction  \\\n",
       "0       ZODIAK LTD           NaN         NaN          XXX   \n",
       "1        Zven Ltd.           NaN         NaN          XXX   \n",
       "2   Anson 11A Ltd.           NaN         NaN          XXX   \n",
       "3        GIADA LTD           NaN         NaN          XXX   \n",
       "4  Scott D. Howard           NaN         NaN          XXX   \n",
       "\n",
       "  jurisdiction_description                                company_type  \\\n",
       "0             Undetermined          Business Company Limited by Shares   \n",
       "1             Undetermined          Business Company Limited by Shares   \n",
       "2             Undetermined  The GRA group of Companies for express Co.   \n",
       "3             Undetermined          Business Company Limited by Shares   \n",
       "4             Undetermined                              Sundry Account   \n",
       "\n",
       "                                             address  internal_id  \\\n",
       "0  Christabel Corporate Services Limited Christab...          NaN   \n",
       "1      Alesta Consulting, S.A. INVOICE BY EMAIL ONLY          NaN   \n",
       "2  Express Co Registration Pte Ltd 138 Cecil Stre...          NaN   \n",
       "3  Christabel Corporate Services Limited Christab...          NaN   \n",
       "4  Scott D. Howard P.O. Box 811 Brunswick ME 0401...          NaN   \n",
       "\n",
       "  incorporation_date inactivation_date       ...          dorm_date  \\\n",
       "0        24-AUG-2007               NaN       ...        01-MAY-2009   \n",
       "1        29-JAN-2007               NaN       ...        01-NOV-2008   \n",
       "2        09-MAY-2000               NaN       ...                NaN   \n",
       "3        14-JUN-2007               NaN       ...                NaN   \n",
       "4                NaN               NaN       ...                NaN   \n",
       "\n",
       "            status            service_provider   ibcRUC country_codes  \\\n",
       "0             Dead  Commonwealth Trust Limited  1427813       VGB;CYP   \n",
       "1             Dead  Commonwealth Trust Limited  1382756       XXX;VGB   \n",
       "2       Liquidated  Commonwealth Trust Limited   386675       SGP;VGB   \n",
       "3  Transferred OUT  Commonwealth Trust Limited  1411204       CYP;VGB   \n",
       "4              NaN  Commonwealth Trust Limited      NaN       USA;XXX   \n",
       "\n",
       "                                countries  \\\n",
       "0          Virgin Islands, British;Cyprus   \n",
       "1  Not identified;Virgin Islands, British   \n",
       "2       Singapore;Virgin Islands, British   \n",
       "3          Cyprus;Virgin Islands, British   \n",
       "4            United States;Not identified   \n",
       "\n",
       "                                                note  \\\n",
       "0                                                NaN   \n",
       "1                                                NaN   \n",
       "2                                                NaN   \n",
       "3                                                NaN   \n",
       "4  This is not an offshore entity even though it ...   \n",
       "\n",
       "                                       valid_until node_id        sourceID  \n",
       "0  The Offshore Leaks data is current through 2010   67028  Offshore Leaks  \n",
       "1  The Offshore Leaks data is current through 2010   67243  Offshore Leaks  \n",
       "2  The Offshore Leaks data is current through 2010   67258  Offshore Leaks  \n",
       "3  The Offshore Leaks data is current through 2010   67266  Offshore Leaks  \n",
       "4  The Offshore Leaks data is current through 2010  108050  Offshore Leaks  \n",
       "\n",
       "[5 rows x 21 columns]"
      ]
     },
     "execution_count": 18,
     "metadata": {},
     "output_type": "execute_result"
    }
   ],
   "source": [
    "entities.head()"
   ]
  },
  {
   "cell_type": "markdown",
   "metadata": {},
   "source": [
    "## Graph analysis\n",
    "\n",
    "Convert `all_edges` to a graph"
   ]
  },
  {
   "cell_type": "code",
   "execution_count": 19,
   "metadata": {
    "collapsed": true
   },
   "outputs": [],
   "source": [
    "# Make Graphs\n",
    "ordered_nodes = sorted(set(all_edges.node_1) | set(all_edges.node_2))\n",
    "\n",
    "# keys are graph ids, vals are node ids\n",
    "node_for_id = {x: y for x,y in enumerate(ordered_nodes)}\n",
    "id_for_node = {node_for_id[id_key]: id_key for id_key in node_for_id}\n",
    "\n",
    "g = Graph(directed=True)\n",
    "g.add_vertices(len(ordered_nodes))\n",
    "g.vs['node_id'] = ordered_nodes"
   ]
  },
  {
   "cell_type": "code",
   "execution_count": 20,
   "metadata": {
    "collapsed": true
   },
   "outputs": [],
   "source": [
    "merged_edges = all_edges.groupby(['node_1',\n",
    "                                  'node_2']).aggregate(lambda x: set(x)).reset_index()\n",
    "merged_edges['id_1'] = merged_edges.node_1.apply(lambda x: id_for_node[x])\n",
    "merged_edges['id_2'] = merged_edges.node_2.apply(lambda x: id_for_node[x])"
   ]
  },
  {
   "cell_type": "code",
   "execution_count": 10,
   "metadata": {
    "collapsed": true
   },
   "outputs": [],
   "source": [
    "g.add_edges(merged_edges.loc[:, ['id_1', 'id_2']].apply(lambda x: (x[0], x[1]), 1).tolist())\n",
    "g.es['types'] = merged_edges.loc[:, 'rel_type']"
   ]
  },
  {
   "cell_type": "code",
   "execution_count": 12,
   "metadata": {
    "collapsed": false
   },
   "outputs": [
    {
     "data": {
      "text/plain": [
       "'IGRAPH U--- 838105 1208923 -- \\n+ attr: node_id (v), types (e)'"
      ]
     },
     "execution_count": 12,
     "metadata": {},
     "output_type": "execute_result"
    }
   ],
   "source": [
    "g.summary()"
   ]
  }
 ],
 "metadata": {
  "kernelspec": {
   "display_name": "Python 3",
   "language": "python",
   "name": "python3"
  },
  "language_info": {
   "codemirror_mode": {
    "name": "ipython",
    "version": 3
   },
   "file_extension": ".py",
   "mimetype": "text/x-python",
   "name": "python",
   "nbconvert_exporter": "python",
   "pygments_lexer": "ipython3",
   "version": "3.5.1"
  },
  "widgets": {
   "state": {},
   "version": "1.1.1"
  }
 },
 "nbformat": 4,
 "nbformat_minor": 0
}
